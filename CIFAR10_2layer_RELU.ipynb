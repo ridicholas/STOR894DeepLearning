{
 "cells": [
  {
   "cell_type": "code",
   "execution_count": 2,
   "metadata": {},
   "outputs": [],
   "source": [
    "import numpy as np\n",
    "import torch\n",
    "import torch.nn as nn\n",
    "import torchvision\n",
    "import torchvision.transforms as transforms"
   ]
  },
  {
   "cell_type": "code",
   "execution_count": 3,
   "metadata": {},
   "outputs": [],
   "source": [
    "# set random seeds for reproducibility\n",
    "torch.manual_seed(12)\n",
    "torch.cuda.manual_seed(12)\n",
    "np.random.seed(12)"
   ]
  },
  {
   "cell_type": "code",
   "execution_count": 4,
   "metadata": {},
   "outputs": [
    {
     "name": "stdout",
     "output_type": "stream",
     "text": [
      "Working on device=cpu\n"
     ]
    }
   ],
   "source": [
    "# Device configuration\n",
    "device = torch.device('cuda' if torch.cuda.is_available() else 'cpu')\n",
    "# If we are on a CUDA machine, then this should print a CUDA device, but we are not, so it will run on CPU:\n",
    "print(f'Working on device={device}')"
   ]
  },
  {
   "cell_type": "code",
   "execution_count": 5,
   "metadata": {},
   "outputs": [],
   "source": [
    "# Hyper-parameters\n",
    "\n",
    "# each CIFAR image is RGB 32x32, so it is an 3D array [3,32,32]\n",
    "# we will flatten the image as vector dim=3*32*32\n",
    "input_size = 3*32*32\n",
    "\n",
    "hidden_size = 1024\n",
    "\n",
    "# we have 10 classes\n",
    "classes = ('plane', 'car', 'bird', 'cat',\n",
    "           'deer', 'dog', 'frog', 'horse', 'ship', 'truck')\n",
    "\n",
    "num_classes = 10\n",
    "\n",
    "num_epochs = 5\n",
    "batch_size = 16\n",
    "\n",
    "learning_rate = 0.001"
   ]
  },
  {
   "cell_type": "code",
   "execution_count": 6,
   "metadata": {},
   "outputs": [
    {
     "name": "stdout",
     "output_type": "stream",
     "text": [
      "Files already downloaded and verified\n",
      "Files already downloaded and verified\n"
     ]
    }
   ],
   "source": [
    "transform = transforms.Compose(\n",
    "    [transforms.ToTensor(),\n",
    "     transforms.Normalize((0.5, 0.5, 0.5), (0.5, 0.5, 0.5))])\n",
    "\n",
    "trainset = torchvision.datasets.CIFAR10(root='./data', train=True,\n",
    "                                        download=True, transform=transform)\n",
    "train_loader = torch.utils.data.DataLoader(trainset, batch_size=batch_size,\n",
    "                                           shuffle=True)\n",
    "\n",
    "testset = torchvision.datasets.CIFAR10(root='./data', train=False,\n",
    "                                       download=True, transform=transform)\n",
    "test_loader = torch.utils.data.DataLoader(testset, batch_size=batch_size,\n",
    "                                          shuffle=False)\n"
   ]
  },
  {
   "cell_type": "code",
   "execution_count": 7,
   "metadata": {},
   "outputs": [],
   "source": [
    "class MultilayerNeuralNet(nn.Module):\n",
    "    def __init__(self, input_size, num_classes):\n",
    "        '''\n",
    "        Fully connected neural network with 2 hidden layers\n",
    "        '''\n",
    "        super(MultilayerNeuralNet, self).__init__()\n",
    "\n",
    "        # hidden layers sizes, you can play with it as you wish!\n",
    "        hidden1 = 1024\n",
    "        hidden2 = 1024\n",
    "\n",
    "        # input to first hidden layer parameters\n",
    "        self.fc1 = nn.Linear(input_size, hidden1)\n",
    "        self.relu1 = nn.ReLU()\n",
    "\n",
    "        # second hidden layer\n",
    "        self.fc2 = nn.Linear(hidden1, hidden2)\n",
    "        self.relu2 = nn.ReLU()\n",
    "\n",
    "        # last output layer\n",
    "        self.output = nn.Linear(hidden2, num_classes)\n",
    "\n",
    "    def forward(self, x):\n",
    "        '''\n",
    "        This method takes an input x and layer after layer compute network states.\n",
    "        Last layer gives us predictions.\n",
    "        '''\n",
    "        state = self.fc1(x)\n",
    "        state = self.relu1(state)\n",
    "\n",
    "        state = self.fc2(state)\n",
    "        state = self.relu2(state)\n",
    "\n",
    "        state = self.output(state)\n",
    "\n",
    "        return state"
   ]
  },
  {
   "cell_type": "code",
   "execution_count": 8,
   "metadata": {},
   "outputs": [],
   "source": [
    "model = MultilayerNeuralNet(input_size, num_classes).to(device)"
   ]
  },
  {
   "cell_type": "code",
   "execution_count": 9,
   "metadata": {},
   "outputs": [],
   "source": [
    "# Loss and optimizer\n",
    "criterion = nn.CrossEntropyLoss()\n",
    "optimizer = torch.optim.Adam(model.parameters(), lr=learning_rate)"
   ]
  },
  {
   "cell_type": "code",
   "execution_count": 13,
   "metadata": {},
   "outputs": [
    {
     "name": "stdout",
     "output_type": "stream",
     "text": [
      "Epoch [1/5]], Loss: 1.2684 Test acc: 0.5035\n",
      "Epoch [2/5]], Loss: 1.2199 Test acc: 0.5083\n",
      "Epoch [3/5]], Loss: 1.1677 Test acc: 0.5016\n",
      "Epoch [4/5]], Loss: 1.1308 Test acc: 0.5068\n",
      "Epoch [5/5]], Loss: 1.0841 Test acc: 0.4997\n"
     ]
    }
   ],
   "source": [
    "#Train model\n",
    "\n",
    "# set our model in the training mode\n",
    "model.train()\n",
    "for epoch in range(num_epochs):\n",
    "\n",
    "    epoch_loss = 0\n",
    "    # data loop, iterate over chunk of data(batch) eg. 32 elements\n",
    "    # compute model prediction\n",
    "    # update weights\n",
    "    for i, batch_sample in enumerate(train_loader):\n",
    "\n",
    "        # print(batch_sample)\n",
    "        images, labels = batch_sample\n",
    "\n",
    "        # flatten the image and move to device\n",
    "        images = images.reshape(-1, input_size).to(device)\n",
    "        labels = labels.to(device)\n",
    "\n",
    "        # Forward pass, compute prediction,\n",
    "        # method 'forward' is automatically called\n",
    "        prediction = model(images)\n",
    "        # Compute loss, quantify how wrong our predictions are\n",
    "        # small loss means a small error\n",
    "        loss = criterion(prediction, labels)\n",
    "        epoch_loss += loss.item()\n",
    "\n",
    "        # Backward and optimize\n",
    "        model.zero_grad()\n",
    "        loss.backward()\n",
    "        optimizer.step()\n",
    "\n",
    "    epoch_loss = epoch_loss / len(train_loader)\n",
    "    \n",
    "    # Test the model\n",
    "\n",
    "    # set our model in the training mode\n",
    "    model.eval()\n",
    "    # In test phase, we don't need to compute gradients (for memory efficiency)\n",
    "    with torch.no_grad():\n",
    "        correct = 0\n",
    "        total = 0\n",
    "\n",
    "        for images, labels in test_loader:\n",
    "            # reshape image\n",
    "            images = images.reshape(-1, input_size).to(device)\n",
    "            labels = labels.to(device)\n",
    "\n",
    "            # predict classes\n",
    "            prediction = model(images)\n",
    "\n",
    "            # compute accuracy\n",
    "            _, predicted = torch.max(prediction.data, 1)\n",
    "            total += labels.size(0)\n",
    "            correct += (predicted == labels).sum().item()\n",
    "\n",
    "        acc = correct/total\n",
    "\n",
    "        # Accuracy of the network on the 10000 test images\n",
    "        print(\n",
    "            f'Epoch [{epoch+1}/{num_epochs}]], Loss: {epoch_loss:.4f} Test acc: {acc}')"
   ]
  }
 ],
 "metadata": {
  "kernelspec": {
   "display_name": "MyPy3",
   "language": "python",
   "name": "py3"
  },
  "language_info": {
   "codemirror_mode": {
    "name": "ipython",
    "version": 3
   },
   "file_extension": ".py",
   "mimetype": "text/x-python",
   "name": "python",
   "nbconvert_exporter": "python",
   "pygments_lexer": "ipython3",
   "version": "3.7.3"
  }
 },
 "nbformat": 4,
 "nbformat_minor": 2
}
